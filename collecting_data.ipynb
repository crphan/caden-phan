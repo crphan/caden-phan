{
 "cells": [
  {
   "cell_type": "markdown",
   "metadata": {},
   "source": [
    "# Collecting Data\n",
    "\n",
    "The foundation of your project will be to collect appropriate data for the problem you are trying to solve. There is incredible versatility in how you can use an machine learning model. Some examples might be to predict the next social media trend, categorizing cancer cells, trying to better understand the relationship between temperature fluctuations and coffee bean growth rates, or creating a chat bot.\n",
    "\n",
    "Since we are very early in this course, and - most likely at this point - have not discussed many models, it may be difficult to know what you can do with a dataset, or what is in scope of this course. So by the nature of the course title \"Exploring Machine Learning\" we will take an explorative approach to your project. \n",
    "\n",
    "The goal of this part of the project is to explore what data sets you might be interested in, below will be questions to help guide you to selecting a category of data that you want to further explore."
   ]
  },
  {
   "cell_type": "markdown",
   "metadata": {},
   "source": [
    "## Identifying what data you want to explore\n",
    "\n",
    "Data is everywhere and there seems to be data on about anything. You might know exactly what you want to dive deeper into or you might have no idea. Either way I invite you answer the questions below.\n",
    "\n",
    "Below create a python dictionary with the key being a short summary of the topic of interest, while the value is an explanation of your interest - such as why you are interested in this topic, or why do you feel a strong passion to understand this topic. A topic of interest could be research you are conducting, a topic you are studying at your job, hobbies you have or topics surrounding your identities.\n",
    "\n",
    "List 5 topics, and for each topic put at least a 50 word description.\n",
    "\n",
    "For example I might put:\n",
    "\n",
    "```python\n",
    "interests = {\n",
    "    \"Cats\" : \"I have two cats at home, they are basically my children. I would generally like to learn more about cat behavior, health trends and pet owner behavior. It may be interesting to also see industry trends of cat owner, or how they compare to dog owners. Maybe later I want to start to write an app that recognizes cat breeds\",\n",
    "\n",
    "    \"Scuba\" : \"The study of scuba diving seems to be a 'soft' science, and there are general guidelines on when and how long you should do safety stops to avoid getting decompression sickness. Could there be links to human anatomy or behavior on how deep a person should go safely during a dive?\",\n",
    "}\n",
    "```"
   ]
  },
  {
   "cell_type": "code",
   "execution_count": 6,
   "metadata": {},
   "outputs": [],
   "source": [
    "# Do not edit the name of this function, it will be used for grading\n",
    "def what_are_topics_you_are_interested_in():\n",
    "    interests = {\n",
    "        \"Dogs\" : \"I have two dogs at home, and I have essentially grown up alongside dogs my entire life. They are quite literally \\\n",
    "    mans best friend. They are undyingly loyal and almost always in a good mood. I currently have a German Shepherd and a Boxer and \\\n",
    "    they are absolutely the best. It may be cool to create an app that recognizes normal dog behavior\",\n",
    "\n",
    "        \"Video Games\" : \"I grew up playing video games with both my friends and family, I think they are an absolutely amazing feat \\\n",
    "    of technology. I think this especially since I have learned more about computers and how difficult it is to code even a simple game \\\n",
    "    in the terminal, I can't imagine what the code for vast open world games like Assassins Creed or Legend of Zelda would look like. \\\n",
    "    It could be nice to write an app that can log gaming time\",\n",
    "\n",
    "        \"Running\" : \"I really enjoy the idea of running, but it is absolutely awful on a bad day. Jokes aside, I think running is super \\\n",
    "    good for you. It is even more fun in a group setting because it helps with motivation. I recently joined a run club and it definitely \\\n",
    "    changed my perspective on running. I always appreciate apps that track run distance\",\n",
    "\n",
    "        \"Lifting\" : \"While I like running, I would definitely say that my favorite form of physical activity is lifting weights. There is \\\n",
    "    something so satisfying about moving heavy objects for some reason. Like my hobby of running it has definitely became a social thing for me \\\n",
    "    which I think makes something a good and fulfilling hobby. Apps with crafted workouts could be extremely helpful\",\n",
    "\n",
    "        \"Clothing\" : \"I really take value in what I wear, I think it is such a fun form of self expression, and I think that what someone wears \\\n",
    "    says a lot about them (sometimes). I also like to thrift and scour the internet for unique looking clothes and shoes because it is super fun to \\\n",
    "    express yourself in a unique way. I even work at a retail clothing store. I like buying and selling apps for clothes.\"\n",
    "\n",
    "    } # Fill out your interests\n",
    "    return interests\n",
    "# Note: you can use the \\ symbol to continue your string to the next line, this makes \n",
    "# things look a bit prettier\n",
    "# Example:\n",
    "print(\"This is an \\\n",
    "      extended string \")"
   ]
  },
  {
   "cell_type": "markdown",
   "metadata": {},
   "source": [
    "## Do datasets exist for my interests?\n",
    "\n",
    "There is lots of data out there but not for everything. Below are some websites where you can take a look at available datasets. Go ahead and search for datasets related to your topic. Are there many data sets surrounding your topic? Are there many different types of data like categorical, regression, images, etc? If there are limited data sets, do you feel comfortable with the challenge of creating your own data? (Note creating your own data set to supplement existing datasets will increase your score on this assignment)\n",
    "\n",
    "> You can find a link to databases on the course page!\n",
    "\n",
    "For 3 of your topics find 3 databases you might want to use for your project. Below create a dictionary with the keys being the topic values you listed above and the value a link of 3 data bases you would like to explore. If you would like to make your own data too make add a string \"Create my own data\" to the end of the list\n",
    "\n",
    "Note, if you have trouble finding datasets for your topic you can make your dataset more general, or try a different topic. For example for my \"Cats\" topic I could expand it to \"Pets\", \"Pet Toy Sales\" or \"Pet Health Benefits\"\n",
    "\n",
    "You can always change your topic and dataset later, so don't feel that these decisions are permanent.\n",
    "\n",
    "While searching did it generate any ideas on interests or data sets you would like to explore? - If so you can add or replace a topic to the dictionary above!\n",
    "\n",
    "\n",
    "Example\"\n",
    "\n",
    "```python\n",
    "datasets = {\n",
    "    \"Cats\" : [\"https://www.kaggle.com/datasets/ma7555/cat-breeds-dataset\", \"https://example.com\", \"https://example.com\", \"Create my own data\"],\n",
    "\n",
    "    \"Second Topic\": [\"https://example.com\", \"https://example.com\", \"https://example.com\"],\n",
    "    \n",
    "    \"Third Topic\" : [\"https://example.com\", \"https://example.com\", \"https://example.com\"]\n",
    "}\n",
    "```\n"
   ]
  },
  {
   "cell_type": "code",
   "execution_count": 7,
   "metadata": {},
   "outputs": [],
   "source": [
    "def find_some_datasets():\n",
    "    datasets = {\n",
    "        \"Dogs\" : [\"https://www.kaggle.com/datasets/jmolitoris/adoptable-dogs\", \"https://www.kaggle.com/datasets/thedevastator/canine-intelligence-and-size\", \\\n",
    "    \"https://www.kaggle.com/datasets/danielshanbalico/dog-emotion\"],\n",
    "        \n",
    "        \"Video Games\" : [\"https://www.kaggle.com/code/snanilim/video-games-sales-analysis-and-visualization\", \"https://www.kaggle.com/code/ahmedismaiil/video-games-rating\", \\\n",
    "    \"https://www.kaggle.com/code/arthurtok/the-console-wars-ps-vs-xbox-vs-wii\"],\n",
    "\n",
    "        \"Running\" : [\"https://www.kaggle.com/datasets/shashwatwork/injury-prediction-for-competitive-runners\", \"https://www.kaggle.com/datasets/tanisha1416/my-redmi-fuel-band-record-tracker-fitbit-dataset\", \\\n",
    "    \"https://www.kaggle.com/datasets/girardi69/marathon-time-predictions\"],\n",
    "\n",
    "        \"Lifting\" : [\"https://www.kaggle.com/datasets/prashant111/weight-lifting-exercises\", \"https://www.kaggle.com/datasets/athniv/exercisepatternpredict\", \\\n",
    "    \"https://www.kaggle.com/datasets/nithilaa/fitness-analysis\"],\n",
    "\n",
    "        \"Clothing\" : [\"https://www.kaggle.com/datasets/shivamb/fashion-clothing-products-catalog\", \"https://www.kaggle.com/datasets/rmisra/clothing-fit-dataset-for-size-recommendation\", \\\n",
    "    \"https://www.kaggle.com/datasets/jocelyndumlao/consumer-review-of-clothing-product\"]\n",
    "    }\n",
    "    return datasets"
   ]
  },
  {
   "cell_type": "markdown",
   "metadata": {},
   "source": [
    "## Asking questions about your dataset\n",
    "\n",
    "Some questions you might want to ask for each dataset are:\n",
    "- Who created this dataset?\n",
    "- When was this dataset created?\n",
    "- Could there be any biases when creating this dataset?\n",
    "- How was this data collected?\n",
    "- Is this data representative of the problem I am trying to solve?\n"
   ]
  }
 ],
 "metadata": {
  "kernelspec": {
   "display_name": "Python 3",
   "language": "python",
   "name": "python3"
  },
  "language_info": {
   "codemirror_mode": {
    "name": "ipython",
    "version": 3
   },
   "file_extension": ".py",
   "mimetype": "text/x-python",
   "name": "python",
   "nbconvert_exporter": "python",
   "pygments_lexer": "ipython3",
   "version": "3.10.9"
  }
 },
 "nbformat": 4,
 "nbformat_minor": 2
}
